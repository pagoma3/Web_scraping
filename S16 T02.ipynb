{
 "cells": [
  {
   "cell_type": "markdown",
   "id": "be07a38f",
   "metadata": {},
   "source": [
    "Scrape the Spanish Stock Exchange website (https://www.bolsamadrid.es) using BeautifulSoup or Selenium."
   ]
  },
  {
   "cell_type": "code",
   "execution_count": 1,
   "id": "299c5121",
   "metadata": {
    "ExecuteTime": {
     "end_time": "2021-08-30T08:24:46.441247Z",
     "start_time": "2021-08-30T08:24:44.199890Z"
    }
   },
   "outputs": [],
   "source": [
    "# Import relevant libraries:\n",
    "\n",
    "import requests\n",
    "from bs4 import BeautifulSoup as bs\n",
    "import selenium\n",
    "import numpy as np\n",
    "import pandas as pd\n"
   ]
  },
  {
   "cell_type": "code",
   "execution_count": 2,
   "id": "7bb23259",
   "metadata": {
    "ExecuteTime": {
     "end_time": "2021-08-30T08:24:46.821835Z",
     "start_time": "2021-08-30T08:24:46.445303Z"
    }
   },
   "outputs": [],
   "source": [
    "# Get the website's HTML thanks to the requests library:\n",
    "\n",
    "URL = \"https://www.bolsamadrid.es/esp/aspx/Mercados/Precios.aspx?indice=ESI100000000\"\n",
    "page = requests.get(URL)\n",
    "# .get gets all the information from the URL\n",
    "\n",
    "soup = bs(page.content, \"html.parser\")\n",
    "# The BeautifulSoup object needs an HTML parser library; in this case, it is the Python pre-set\n"
   ]
  },
  {
   "cell_type": "code",
   "execution_count": 3,
   "id": "b00a1990",
   "metadata": {
    "ExecuteTime": {
     "end_time": "2021-08-30T08:24:46.843073Z",
     "start_time": "2021-08-30T08:24:46.825786Z"
    }
   },
   "outputs": [],
   "source": [
    "# We now get the HTML element that contains the information we want:\n",
    "\n",
    "table = soup.find(id = \"ctl00_Contenido_tblAcciones\")"
   ]
  },
  {
   "cell_type": "code",
   "execution_count": 4,
   "id": "ea45e8c4",
   "metadata": {
    "ExecuteTime": {
     "end_time": "2021-08-30T08:24:46.870266Z",
     "start_time": "2021-08-30T08:24:46.855300Z"
    }
   },
   "outputs": [],
   "source": [
    "# We create an empty numpy array to which we will append our content:\n",
    "\n",
    "general = np.array([])\n"
   ]
  },
  {
   "cell_type": "code",
   "execution_count": 5,
   "id": "dce7dfff",
   "metadata": {
    "ExecuteTime": {
     "end_time": "2021-08-30T08:24:46.912102Z",
     "start_time": "2021-08-30T08:24:46.876556Z"
    }
   },
   "outputs": [],
   "source": [
    "# We use a for loop to extract the information into the numpy array:\n",
    "\n",
    "for company in table:\n",
    "    for elements in company:\n",
    "        for content in elements:\n",
    "            general = np.append(general, content) \n"
   ]
  },
  {
   "cell_type": "code",
   "execution_count": 6,
   "id": "bb772013",
   "metadata": {
    "ExecuteTime": {
     "end_time": "2021-08-30T08:24:46.934220Z",
     "start_time": "2021-08-30T08:24:46.917742Z"
    }
   },
   "outputs": [],
   "source": [
    "# Delete spaces that got into the array:\n",
    "\n",
    "arr_new = np.delete(general, np.where(general == \"\\n\"))\n",
    "\n"
   ]
  },
  {
   "cell_type": "code",
   "execution_count": 7,
   "id": "98a9b404",
   "metadata": {
    "ExecuteTime": {
     "end_time": "2021-08-30T08:24:46.986977Z",
     "start_time": "2021-08-30T08:24:46.939901Z"
    }
   },
   "outputs": [
    {
     "data": {
      "text/html": [
       "<div>\n",
       "<style scoped>\n",
       "    .dataframe tbody tr th:only-of-type {\n",
       "        vertical-align: middle;\n",
       "    }\n",
       "\n",
       "    .dataframe tbody tr th {\n",
       "        vertical-align: top;\n",
       "    }\n",
       "\n",
       "    .dataframe thead th {\n",
       "        text-align: right;\n",
       "    }\n",
       "</style>\n",
       "<table border=\"1\" class=\"dataframe\">\n",
       "  <thead>\n",
       "    <tr style=\"text-align: right;\">\n",
       "      <th></th>\n",
       "      <th>Nombre</th>\n",
       "      <th>Últ.</th>\n",
       "      <th>% Dif.</th>\n",
       "      <th>Máx.</th>\n",
       "      <th>Mín.</th>\n",
       "      <th>Volumen</th>\n",
       "      <th>Efectivo (miles €)</th>\n",
       "      <th>Fecha</th>\n",
       "      <th>Hora</th>\n",
       "    </tr>\n",
       "  </thead>\n",
       "  <tbody>\n",
       "    <tr>\n",
       "      <th>1</th>\n",
       "      <td>ACCIONA</td>\n",
       "      <td>138,7000</td>\n",
       "      <td>1,24</td>\n",
       "      <td>139,1000</td>\n",
       "      <td>137,6000</td>\n",
       "      <td>4.833</td>\n",
       "      <td>669,93</td>\n",
       "      <td>30/08/2021</td>\n",
       "      <td>10:08:01</td>\n",
       "    </tr>\n",
       "    <tr>\n",
       "      <th>2</th>\n",
       "      <td>ACERINOX</td>\n",
       "      <td>11,6950</td>\n",
       "      <td>0,86</td>\n",
       "      <td>11,7250</td>\n",
       "      <td>11,6000</td>\n",
       "      <td>44.853</td>\n",
       "      <td>523,61</td>\n",
       "      <td>30/08/2021</td>\n",
       "      <td>10:07:41</td>\n",
       "    </tr>\n",
       "    <tr>\n",
       "      <th>3</th>\n",
       "      <td>ACS</td>\n",
       "      <td>22,9400</td>\n",
       "      <td>-0,39</td>\n",
       "      <td>23,1600</td>\n",
       "      <td>22,9300</td>\n",
       "      <td>49.826</td>\n",
       "      <td>1.148,62</td>\n",
       "      <td>30/08/2021</td>\n",
       "      <td>10:08:50</td>\n",
       "    </tr>\n",
       "    <tr>\n",
       "      <th>4</th>\n",
       "      <td>AENA</td>\n",
       "      <td>136,2500</td>\n",
       "      <td>-0,04</td>\n",
       "      <td>136,7000</td>\n",
       "      <td>135,9000</td>\n",
       "      <td>1.764</td>\n",
       "      <td>240,51</td>\n",
       "      <td>30/08/2021</td>\n",
       "      <td>10:05:15</td>\n",
       "    </tr>\n",
       "    <tr>\n",
       "      <th>5</th>\n",
       "      <td>ALMIRALL</td>\n",
       "      <td>14,0300</td>\n",
       "      <td>-0,57</td>\n",
       "      <td>14,1800</td>\n",
       "      <td>13,9900</td>\n",
       "      <td>20.049</td>\n",
       "      <td>281,72</td>\n",
       "      <td>30/08/2021</td>\n",
       "      <td>10:08:52</td>\n",
       "    </tr>\n",
       "    <tr>\n",
       "      <th>6</th>\n",
       "      <td>AMADEUS</td>\n",
       "      <td>51,2000</td>\n",
       "      <td>-0,12</td>\n",
       "      <td>51,6000</td>\n",
       "      <td>51,0600</td>\n",
       "      <td>23.203</td>\n",
       "      <td>1.189,44</td>\n",
       "      <td>30/08/2021</td>\n",
       "      <td>10:08:10</td>\n",
       "    </tr>\n",
       "    <tr>\n",
       "      <th>7</th>\n",
       "      <td>ARCELORMIT.</td>\n",
       "      <td>29,7550</td>\n",
       "      <td>1,10</td>\n",
       "      <td>29,8200</td>\n",
       "      <td>29,3800</td>\n",
       "      <td>60.258</td>\n",
       "      <td>1.787,10</td>\n",
       "      <td>30/08/2021</td>\n",
       "      <td>10:08:00</td>\n",
       "    </tr>\n",
       "    <tr>\n",
       "      <th>8</th>\n",
       "      <td>B.SANTANDER</td>\n",
       "      <td>3,1425</td>\n",
       "      <td>-0,74</td>\n",
       "      <td>3,1665</td>\n",
       "      <td>3,1425</td>\n",
       "      <td>791.220</td>\n",
       "      <td>2.496,94</td>\n",
       "      <td>30/08/2021</td>\n",
       "      <td>10:08:32</td>\n",
       "    </tr>\n",
       "    <tr>\n",
       "      <th>9</th>\n",
       "      <td>BA.SABADELL</td>\n",
       "      <td>0,6090</td>\n",
       "      <td>-0,65</td>\n",
       "      <td>0,6162</td>\n",
       "      <td>0,6082</td>\n",
       "      <td>815.856</td>\n",
       "      <td>499,54</td>\n",
       "      <td>30/08/2021</td>\n",
       "      <td>10:08:39</td>\n",
       "    </tr>\n",
       "    <tr>\n",
       "      <th>10</th>\n",
       "      <td>BANKINTER</td>\n",
       "      <td>4,9630</td>\n",
       "      <td>-0,94</td>\n",
       "      <td>5,0060</td>\n",
       "      <td>4,9630</td>\n",
       "      <td>151.694</td>\n",
       "      <td>755,60</td>\n",
       "      <td>30/08/2021</td>\n",
       "      <td>10:07:27</td>\n",
       "    </tr>\n",
       "  </tbody>\n",
       "</table>\n",
       "</div>"
      ],
      "text/plain": [
       "0        Nombre      Últ. % Dif.      Máx.      Mín.  Volumen  \\\n",
       "1       ACCIONA  138,7000   1,24  139,1000  137,6000    4.833   \n",
       "2      ACERINOX   11,6950   0,86   11,7250   11,6000   44.853   \n",
       "3           ACS   22,9400  -0,39   23,1600   22,9300   49.826   \n",
       "4          AENA  136,2500  -0,04  136,7000  135,9000    1.764   \n",
       "5      ALMIRALL   14,0300  -0,57   14,1800   13,9900   20.049   \n",
       "6       AMADEUS   51,2000  -0,12   51,6000   51,0600   23.203   \n",
       "7   ARCELORMIT.   29,7550   1,10   29,8200   29,3800   60.258   \n",
       "8   B.SANTANDER    3,1425  -0,74    3,1665    3,1425  791.220   \n",
       "9   BA.SABADELL    0,6090  -0,65    0,6162    0,6082  815.856   \n",
       "10    BANKINTER    4,9630  -0,94    5,0060    4,9630  151.694   \n",
       "\n",
       "0  Efectivo (miles €)       Fecha      Hora  \n",
       "1              669,93  30/08/2021  10:08:01  \n",
       "2              523,61  30/08/2021  10:07:41  \n",
       "3            1.148,62  30/08/2021  10:08:50  \n",
       "4              240,51  30/08/2021  10:05:15  \n",
       "5              281,72  30/08/2021  10:08:52  \n",
       "6            1.189,44  30/08/2021  10:08:10  \n",
       "7            1.787,10  30/08/2021  10:08:00  \n",
       "8            2.496,94  30/08/2021  10:08:32  \n",
       "9              499,54  30/08/2021  10:08:39  \n",
       "10             755,60  30/08/2021  10:07:27  "
      ]
     },
     "execution_count": 7,
     "metadata": {},
     "output_type": "execute_result"
    }
   ],
   "source": [
    "# Reshape into the original form: 9 characteristics, 35 companies (+ column names)\n",
    "arr_new = np.reshape(arr_new, (36, 9))\n",
    "\n",
    "# Convert into DataFrame and make the first row into column names:\n",
    "df = pd.DataFrame(arr_new)\n",
    "\n",
    "new_header = df.iloc[0]\n",
    "df = df[1:] \n",
    "df.columns = new_header\n",
    "\n",
    "# Visualise:\n",
    "df.head(10)"
   ]
  },
  {
   "cell_type": "markdown",
   "id": "794ca40c",
   "metadata": {
    "ExecuteTime": {
     "end_time": "2021-08-26T10:56:14.129339Z",
     "start_time": "2021-08-26T10:56:14.078691Z"
    }
   },
   "source": [
    "Explain in a Word document subject to Kaggle standards the information you have gathered:"
   ]
  },
  {
   "cell_type": "code",
   "execution_count": 8,
   "id": "fec8206d",
   "metadata": {
    "ExecuteTime": {
     "end_time": "2021-08-30T08:24:47.001122Z",
     "start_time": "2021-08-30T08:24:46.994135Z"
    }
   },
   "outputs": [],
   "source": [
    "# The Word document can be found in the same directory as this file"
   ]
  },
  {
   "cell_type": "markdown",
   "id": "29d7b5b0",
   "metadata": {},
   "source": [
    "Choose a website and scrap it using Scrapy:"
   ]
  },
  {
   "cell_type": "code",
   "execution_count": 9,
   "id": "0bf1f31f",
   "metadata": {
    "ExecuteTime": {
     "end_time": "2021-08-30T08:24:48.224726Z",
     "start_time": "2021-08-30T08:24:47.008067Z"
    }
   },
   "outputs": [],
   "source": [
    "\n",
    "# We will try to scrape basic data from all countries of the world:\n",
    "\n",
    "import scrapy\n",
    "\n",
    "# We instantiate the Spider that will scrape the website:\n",
    "\n",
    "class Globetrotter(scrapy.Spider):\n",
    "    name = 'countries'\n",
    "    start_urls = [\n",
    "        'https://www.scrapethissite.com/pages/simple/',\n",
    "    ]\n",
    "    \n",
    "# We create a for loop that will get all items that we want:\n",
    "    \n",
    "    def parse(self, response):\n",
    "        for country in response.css('div.col-md-4'):\n",
    "            yield {\n",
    "                'name': country.xpath('.//h3/text()')[1].get(),\n",
    "                'capital': country.css('.country-capital::text').get(default = \"\"),\n",
    "                'area': country.css('.country-area::text').get(default = \"\"),\n",
    "                'population': country.css('.country-population::text').get(default = \"\"),\n",
    "            }\n",
    "            \n",
    "# We move this code cell into its own pure Python file and we run it in the terminal with the command:\n",
    "\n",
    "    # scrapy runspider countriesSpider.py -o countries.csv\n",
    "    \n",
    "# The results are saved into the countries CSV file\n",
    "        "
   ]
  }
 ],
 "metadata": {
  "kernelspec": {
   "display_name": "Python 3",
   "language": "python",
   "name": "python3"
  },
  "language_info": {
   "codemirror_mode": {
    "name": "ipython",
    "version": 3
   },
   "file_extension": ".py",
   "mimetype": "text/x-python",
   "name": "python",
   "nbconvert_exporter": "python",
   "pygments_lexer": "ipython3",
   "version": "3.8.8"
  },
  "varInspector": {
   "cols": {
    "lenName": 16,
    "lenType": 16,
    "lenVar": 40
   },
   "kernels_config": {
    "python": {
     "delete_cmd_postfix": "",
     "delete_cmd_prefix": "del ",
     "library": "var_list.py",
     "varRefreshCmd": "print(var_dic_list())"
    },
    "r": {
     "delete_cmd_postfix": ") ",
     "delete_cmd_prefix": "rm(",
     "library": "var_list.r",
     "varRefreshCmd": "cat(var_dic_list()) "
    }
   },
   "types_to_exclude": [
    "module",
    "function",
    "builtin_function_or_method",
    "instance",
    "_Feature"
   ],
   "window_display": false
  }
 },
 "nbformat": 4,
 "nbformat_minor": 5
}
